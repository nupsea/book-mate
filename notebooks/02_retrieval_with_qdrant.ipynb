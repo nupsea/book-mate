{
 "cells": [
  {
   "cell_type": "code",
   "execution_count": 1,
   "id": "f95957f9",
   "metadata": {},
   "outputs": [
    {
     "name": "stderr",
     "output_type": "stream",
     "text": [
      "/Users/sethurama/DEV/LM/book-mate/.venv/lib/python3.13/site-packages/tqdm/auto.py:21: TqdmWarning: IProgress not found. Please update jupyter and ipywidgets. See https://ipywidgets.readthedocs.io/en/stable/user_install.html\n",
      "  from .autonotebook import tqdm as notebook_tqdm\n"
     ]
    }
   ],
   "source": [
    "from pathlib import Path\n",
    "import matplotlib.pyplot as plt\n",
    "from qdrant_client import QdrantClient, models\n",
    "from sentence_transformers import SentenceTransformer\n",
    "from rank_bm25 import BM25Okapi\n",
    "import re\n",
    "import tiktoken\n",
    "import pandas as pd\n",
    "import json\n",
    "from collections import defaultdict"
   ]
  },
  {
   "cell_type": "code",
   "execution_count": 2,
   "id": "68fb469c",
   "metadata": {},
   "outputs": [],
   "source": [
    "def strip_gutenberg(text: str) -> str:\n",
    "    start_match = re.search(r\"\\*\\*\\* START OF.*\\*\\*\\*\", text)\n",
    "    end_match = re.search(r\"\\*\\*\\* END OF.*\\*\\*\\*\", text)\n",
    "    if start_match and end_match:\n",
    "        return text[start_match.end(): end_match.start()]\n",
    "    return text\n",
    "\n",
    "\n",
    "def read_book(book_fp=\"../DATA/alice_in_wonderland.txt\"):\n",
    "\n",
    "    book_path = Path(book_fp)\n",
    "    raw_text = book_path.read_text(encoding=\"utf-8\")\n",
    "\n",
    "    clean_text = strip_gutenberg(raw_text)\n",
    "    print(\"Clean word count:\", len(clean_text.split()))\n",
    "    return clean_text"
   ]
  },
  {
   "cell_type": "code",
   "execution_count": 3,
   "id": "67ee3d66",
   "metadata": {},
   "outputs": [],
   "source": [
    "\n",
    "enc = tiktoken.get_encoding('cl100k_base')\n",
    "\n",
    "SPLIT_PATTERN = r\"^(?:CHAPTER [IVXLCDM]+\\.)\\s*\\n\"\n",
    "\n",
    "def split_sections(text: str):\n",
    "    return re.split(SPLIT_PATTERN, text, flags=re.IGNORECASE | re.MULTILINE)\n",
    "\n",
    "def chunk_tokens(text: str, max_tokens=1000, overlap=100):\n",
    "    tokens = enc.encode(text)\n",
    "    chunks = []\n",
    "    for i in range(0, len(tokens), max_tokens - overlap):\n",
    "        chunk = enc.decode(tokens[i:i+max_tokens])\n",
    "        chunks.append(chunk)\n",
    "    return chunks\n",
    "\n",
    "def hybrid_chunk(text: str, max_tokens=1000, overlap=100):\n",
    "    sections = split_sections(text=text)\n",
    "    all_chunks = []\n",
    "    for idx, section in enumerate(sections): \n",
    "        section_chunks = chunk_tokens(section, max_tokens, overlap)\n",
    "        for cid, sub in enumerate(section_chunks):\n",
    "            all_chunks.append(\n",
    "                {\n",
    "                    \"section\": idx+1,\n",
    "                    \"chunk_id\": f\"{idx+1}_{cid+1}\",\n",
    "                    \"text\": sub,\n",
    "                    \"n_tokens\": len(enc.encode(sub)),\n",
    "                    \"char_len\": len(sub)\n",
    "                }\n",
    "            )\n",
    "\n",
    "    return all_chunks"
   ]
  },
  {
   "cell_type": "code",
   "execution_count": 4,
   "id": "e5b4b250",
   "metadata": {},
   "outputs": [
    {
     "name": "stdout",
     "output_type": "stream",
     "text": [
      "Clean word count: 26525\n",
      "Num chunks: 61\n",
      "Preview:  the\n",
      "birds and animals that had fallen into it: there were a Duck and a\n",
      "Dodo, a Lory and an Eaglet, and several other curious creatures. Alice\n",
      "led the way, and the whole party swam to the shore.\n",
      "\n",
      "\n",
      "\n",
      "\n",
      "\n"
     ]
    }
   ],
   "source": [
    "text = read_book()\n",
    "chunks = hybrid_chunk(text, max_tokens=800, overlap=100)\n",
    "\n",
    "print(\"Num chunks:\", len(chunks))\n",
    "print(\"Preview:\", chunks[10][\"text\"][:300])\n"
   ]
  },
  {
   "cell_type": "code",
   "execution_count": 5,
   "id": "b0df61f3",
   "metadata": {},
   "outputs": [
    {
     "data": {
      "text/html": [
       "<div>\n",
       "<style scoped>\n",
       "    .dataframe tbody tr th:only-of-type {\n",
       "        vertical-align: middle;\n",
       "    }\n",
       "\n",
       "    .dataframe tbody tr th {\n",
       "        vertical-align: top;\n",
       "    }\n",
       "\n",
       "    .dataframe thead th {\n",
       "        text-align: right;\n",
       "    }\n",
       "</style>\n",
       "<table border=\"1\" class=\"dataframe\">\n",
       "  <thead>\n",
       "    <tr style=\"text-align: right;\">\n",
       "      <th></th>\n",
       "      <th>section</th>\n",
       "      <th>chunk_id</th>\n",
       "      <th>text</th>\n",
       "      <th>n_tokens</th>\n",
       "      <th>char_len</th>\n",
       "    </tr>\n",
       "  </thead>\n",
       "  <tbody>\n",
       "    <tr>\n",
       "      <th>0</th>\n",
       "      <td>1</td>\n",
       "      <td>1_1</td>\n",
       "      <td>\\n\\n[Illustration]\\n\\n\\n\\n\\nAlice’s Adventures...</td>\n",
       "      <td>159</td>\n",
       "      <td>586</td>\n",
       "    </tr>\n",
       "    <tr>\n",
       "      <th>1</th>\n",
       "      <td>2</td>\n",
       "      <td>2_1</td>\n",
       "      <td>Down the Rabbit-Hole\\n\\n\\nAlice was beginning ...</td>\n",
       "      <td>800</td>\n",
       "      <td>3282</td>\n",
       "    </tr>\n",
       "    <tr>\n",
       "      <th>2</th>\n",
       "      <td>2</td>\n",
       "      <td>2_2</td>\n",
       "      <td>thousand miles down, I think—” (for, you see,...</td>\n",
       "      <td>800</td>\n",
       "      <td>3069</td>\n",
       "    </tr>\n",
       "    <tr>\n",
       "      <th>3</th>\n",
       "      <td>2</td>\n",
       "      <td>2_3</td>\n",
       "      <td>herself in a long, low hall, which was lit up ...</td>\n",
       "      <td>800</td>\n",
       "      <td>3200</td>\n",
       "    </tr>\n",
       "    <tr>\n",
       "      <th>4</th>\n",
       "      <td>2</td>\n",
       "      <td>2_4</td>\n",
       "      <td>, in fact, a sort of mixed\\nflavour of cherry-...</td>\n",
       "      <td>784</td>\n",
       "      <td>3169</td>\n",
       "    </tr>\n",
       "  </tbody>\n",
       "</table>\n",
       "</div>"
      ],
      "text/plain": [
       "   section chunk_id                                               text  \\\n",
       "0        1      1_1  \\n\\n[Illustration]\\n\\n\\n\\n\\nAlice’s Adventures...   \n",
       "1        2      2_1  Down the Rabbit-Hole\\n\\n\\nAlice was beginning ...   \n",
       "2        2      2_2   thousand miles down, I think—” (for, you see,...   \n",
       "3        2      2_3  herself in a long, low hall, which was lit up ...   \n",
       "4        2      2_4  , in fact, a sort of mixed\\nflavour of cherry-...   \n",
       "\n",
       "   n_tokens  char_len  \n",
       "0       159       586  \n",
       "1       800      3282  \n",
       "2       800      3069  \n",
       "3       800      3200  \n",
       "4       784      3169  "
      ]
     },
     "execution_count": 5,
     "metadata": {},
     "output_type": "execute_result"
    }
   ],
   "source": [
    "df = pd.DataFrame(chunks, columns=['section', 'chunk_id', 'text', 'n_tokens', 'char_len'])\n",
    "df.head()"
   ]
  },
  {
   "cell_type": "code",
   "execution_count": 6,
   "id": "c5bd7c54",
   "metadata": {},
   "outputs": [
    {
     "data": {
      "image/png": "[encoded data removed]",
      "text/plain": [
       "<Figure size 640x480 with 1 Axes>"
      ]
     },
     "metadata": {},
     "output_type": "display_data"
    }
   ],
   "source": [
    "plt.hist(df['char_len'], bins=20)\n",
    "plt.show()"
   ]
  },
  {
   "cell_type": "code",
   "execution_count": 7,
   "id": "59332c9c",
   "metadata": {},
   "outputs": [
    {
     "name": "stdout",
     "output_type": "stream",
     "text": [
      "Vector shape: 61 384\n"
     ]
    }
   ],
   "source": [
    "# Prepare embeddings\n",
    "\n",
    "embedder = SentenceTransformer(\"sentence-transformers/all-MiniLM-L6-v2\")\n",
    "\n",
    "def embed_batch(chunks):\n",
    "    texts = [c[\"text\"] for c in chunks]\n",
    "    vecs = embedder.encode(texts, normalize_embeddings=True).tolist()\n",
    "    return vecs\n",
    "\n",
    "vectors = embed_batch(chunks)\n",
    "print(\"Vector shape:\", len(vectors), len(vectors[0]))\n"
   ]
  },
  {
   "cell_type": "markdown",
   "id": "8ff59a22",
   "metadata": {},
   "source": [
    "### Baseline: keyword search with BM25\n"
   ]
  },
  {
   "cell_type": "code",
   "execution_count": 8,
   "id": "62ca43be",
   "metadata": {},
   "outputs": [
    {
     "name": "stdout",
     "output_type": "stream",
     "text": [
      ">> 13_2 (score: 3.692):\n",
      "  the Queen.\n",
      "\n",
      "“Well, I shan’t go, at any rate,” said Alice: “besides, that’s not a\n",
      "regular rule: you invented it just now.”\n",
      "\n",
      "“It’s the oldest rule in the book,” said the King.\n",
      "\n",
      "“Then it ought to be Num ..\n",
      "\n",
      ">> 12_4 (score: 3.664):\n",
      " Then you may _sit_ down,” the King replied.\n",
      "\n",
      "Here the other guinea-pig cheered, and was suppressed.\n",
      "\n",
      "“Come, that finished the guinea-pigs!” thought Alice. “Now we shall get\n",
      "on better.”\n",
      "\n",
      "“I’d rather fi ..\n",
      "\n",
      ">> 12_2 (score: 3.239):\n",
      " at all what had become of it; so, after hunting all about for it, he\n",
      "was obliged to write with one finger for the rest of the day; and this\n",
      "was of very little use, as it left no mark on the slate.\n",
      "\n",
      "“H ..\n",
      "\n",
      ">> 12_1 (score: 3.214):\n",
      " Who Stole the Tarts?\n",
      "\n",
      "\n",
      "The King and Queen of Hearts were seated on their throne when they\n",
      "arrived, with a great crowd assembled about them—all sorts of little\n",
      "birds and beasts, as well as the whole pa ..\n",
      "\n",
      ">> 9_3 (score: 2.870):\n",
      "  roared the Queen, and Alice joined the procession,\n",
      "wondering very much what would happen next.\n",
      "\n",
      "“It’s—it’s a very fine day!” said a timid voice at her side. She was\n",
      "walking by the White Rabbit, who w ..\n",
      "\n"
     ]
    }
   ],
   "source": [
    "\n",
    "tokenized = [c[\"text\"].split() for c in chunks]\n",
    "bm25 = BM25Okapi(tokenized)\n",
    "\n",
    "def bm25_search(query, topk=5):\n",
    "    scores = bm25.get_scores(query.split())\n",
    "    ranked = sorted(enumerate(scores), key=lambda x: -x[1])[:topk]\n",
    "    return [(chunks[i], s) for i, s in ranked]\n",
    "\n",
    "# SEARCH_QUERY = \"Elizabeth Bennet\"\n",
    "SEARCH_QUERY = \"White Rabbit\"\n",
    "for res, score in bm25_search(SEARCH_QUERY):\n",
    "    print(f\">> {res[\"chunk_id\"]} (score: {score:.3f}):\\n\", res[\"text\"][:200], \"..\\n\")"
   ]
  },
  {
   "cell_type": "markdown",
   "id": "311ab06f",
   "metadata": {},
   "source": [
    "### Eval"
   ]
  },
  {
   "cell_type": "code",
   "execution_count": 9,
   "id": "7ea68880",
   "metadata": {},
   "outputs": [],
   "source": [
    "# Golden dataset \n",
    "\n",
    "aiw_gt = []\n",
    "with open(\"../DATA/GT/aiw.json\", \"r\") as f:\n",
    "    res = json.load(f)\n",
    "\n",
    "    for cid, queries in res.items():\n",
    "        for q in queries:\n",
    "            aiw_gt.append(\n",
    "                {\n",
    "                    'gold_id': cid,\n",
    "                    'query': q\n",
    "                }\n",
    "            )\n",
    "\n",
    "# Eval Utils\n",
    "\n",
    "def hit_rate_at_k(res_ids, gold_id, k=5):\n",
    "    return 1.0 if gold_id in res_ids[:k] else 0.0\n",
    "\n",
    "\n",
    "def mrr_at_k(res_ids, gold_id, k=5):\n",
    "    for i, res_id in enumerate(res_ids[:k], start=1):\n",
    "        if res_id == gold_id:\n",
    "            return 1.0 / i \n",
    "    return 0.0\n",
    "\n",
    "\n",
    "def calculate_metrics(results, k_values=[5, 7]):\n",
    "\n",
    "    if not results:\n",
    "        return {f\"hit_rate_at_{k}\": 0.0 for k in k_values} | {f\"mrr_at_{k}\": 0.0 for k in k_values}\n",
    "    \n",
    "    metrics = defaultdict(list)\n",
    "\n",
    "    for result in results:\n",
    "        res_ids = result.get('chunk_ids')\n",
    "        gold_id = result.get('gold_id')\n",
    "\n",
    "        for k in k_values:\n",
    "            metrics[f'hit_rate_at_{k}'].append(hit_rate_at_k(res_ids, gold_id, k))\n",
    "            metrics[f'mrr_at_{k}'].append(mrr_at_k(res_ids, gold_id, k))\n",
    "\n",
    "    avg_metrics = {}\n",
    "    for metric, values in metrics.items():\n",
    "        avg_metrics[metric] = sum(values) / len(values) if values else 0.0\n",
    "\n",
    "    avg_metrics['total_queries'] = len(results)\n",
    "\n",
    "    return avg_metrics\n",
    "    \n"
   ]
  },
  {
   "cell_type": "code",
   "execution_count": 10,
   "id": "865a8441",
   "metadata": {},
   "outputs": [
    {
     "data": {
      "text/plain": [
       "[{'gold_id': '1_1', 'query': 'Mad Tea-Party'},\n",
       " {'gold_id': '1_1', 'query': 'What happens in the Chapter IX?'},\n",
       " {'gold_id': '1_1', 'query': \"Alice's encounters with characters\"},\n",
       " {'gold_id': '1_1', 'query': 'Who is the Caterpillar?'},\n",
       " {'gold_id': '1_1', 'query': \"What does Alice's journey symbolize?\"},\n",
       " {'gold_id': '2_1', 'query': 'falling down the rabbit-hole'},\n",
       " {'gold_id': '2_1',\n",
       "  'query': 'What does Alice think of the book without pictures?'},\n",
       " {'gold_id': '2_1', 'query': 'curtseying while falling'},\n",
       " {'gold_id': '2_1', 'query': 'Who does Alice see that makes her curious?'},\n",
       " {'gold_id': '2_1',\n",
       "  'query': \"What does Alice's curiosity reveal about her character?\"}]"
      ]
     },
     "execution_count": 10,
     "metadata": {},
     "output_type": "execute_result"
    }
   ],
   "source": [
    "aiw_gt[:10]"
   ]
  },
  {
   "cell_type": "markdown",
   "id": "4cee480d",
   "metadata": {},
   "source": [
    "#### Test bm25 metrics"
   ]
  },
  {
   "cell_type": "code",
   "execution_count": 11,
   "id": "0d728dff",
   "metadata": {},
   "outputs": [],
   "source": [
    "\n",
    "\n",
    "def evaluate(search_method):\n",
    "    results = []\n",
    "    for item in aiw_gt:\n",
    "        gold_id = item['gold_id']\n",
    "        query = item['query']\n",
    "\n",
    "        res = search_method(query)\n",
    "        results.append(\n",
    "            {\n",
    "                'gold_id': gold_id,\n",
    "                'chunk_ids': res\n",
    "            }\n",
    "        )\n",
    "    metrics = calculate_metrics(results)\n",
    "    return metrics\n",
    "\n"
   ]
  },
  {
   "cell_type": "code",
   "execution_count": 12,
   "id": "a9136aba",
   "metadata": {},
   "outputs": [
    {
     "name": "stdout",
     "output_type": "stream",
     "text": [
      "{\n",
      "  \"hit_rate_at_5\": 0.49361702127659574,\n",
      "  \"mrr_at_5\": 0.32666666666666666,\n",
      "  \"hit_rate_at_7\": 0.5404255319148936,\n",
      "  \"mrr_at_7\": 0.33396149949341436,\n",
      "  \"total_queries\": 235\n",
      "}\n"
     ]
    }
   ],
   "source": [
    "# Return search ids only for BM25\n",
    "def bm25_search_ids(query: str, topk=7):\n",
    "    search_results = bm25_search(query, topk)\n",
    "    return[c['chunk_id'] for c, score in search_results]\n",
    "\n",
    "eval_res = evaluate(bm25_search_ids)\n",
    "print(json.dumps(eval_res, indent=2))"
   ]
  },
  {
   "cell_type": "markdown",
   "id": "fb292edc",
   "metadata": {},
   "source": [
    "### Semantic Search with Qdrant Vector DB"
   ]
  },
  {
   "cell_type": "code",
   "execution_count": 13,
   "id": "7a6514c4",
   "metadata": {},
   "outputs": [
    {
     "name": "stdout",
     "output_type": "stream",
     "text": [
      " ## Inserted: 61 chunks into Qdrant\n"
     ]
    },
    {
     "name": "stderr",
     "output_type": "stream",
     "text": [
      "/var/folders/9j/dq11054j6sg0m5lt67ct6fr40000gq/T/ipykernel_33922/2035202958.py:4: UserWarning: Qdrant client version 1.15.1 is incompatible with server version 1.8.3. Major versions should match and minor version difference must not exceed 1. Set check_compatibility=False to skip version check.\n",
      "  qdrant = QdrantClient(\"localhost\", port=6333)\n"
     ]
    }
   ],
   "source": [
    "# Ensure Qdrant is running with docker-compose \n",
    "\n",
    "COLLECTION = \"book_chunks\"\n",
    "qdrant = QdrantClient(\"localhost\", port=6333)\n",
    "\n",
    "if not qdrant.collection_exists(COLLECTION):\n",
    "    qdrant.create_collection(\n",
    "        collection_name=COLLECTION,\n",
    "        vectors_config=models.VectorParams(\n",
    "            size=len(vectors[0]),\n",
    "            distance=models.Distance.COSINE\n",
    "        )\n",
    "    )\n",
    "\n",
    "# Upsert points\n",
    "qdrant.upsert(\n",
    "    collection_name=COLLECTION,\n",
    "    points=[\n",
    "        models.PointStruct(\n",
    "            id=i,\n",
    "            vector=vectors[i],\n",
    "            payload=chunks[i]\n",
    "        )\n",
    "        for i in range(len(chunks))\n",
    "    ]\n",
    ")\n",
    "\n",
    "print(f\" ## Inserted: {len(chunks)} chunks into Qdrant\")"
   ]
  },
  {
   "cell_type": "code",
   "execution_count": 14,
   "id": "7cf597ee",
   "metadata": {},
   "outputs": [
    {
     "name": "stdout",
     "output_type": "stream",
     "text": [
      "Semantic Results for 'Elizabeth Bennet':\n",
      ">> 13_2 (score): 0.2578072\n",
      "  the Queen.\n",
      "\n",
      "“Well, I shan’t go, at any rate,” said Alice: “besides, that’s not a\n",
      "regular rule: you invented it just now.”\n",
      "\n",
      "“It’s the oldest rule in the book,” said the King.\n",
      "\n",
      "“Then it ought to be Num ..\n",
      "\n",
      ">> 10_3 (score): 0.24818961\n",
      "  had to leave off being arches to do this, so\n",
      "that by the end of half an hour or so there were no arches left, and\n",
      "all the players, except the King, the Queen, and Alice, were in custody\n",
      "and under sen ..\n",
      "\n",
      ">> 12_3 (score): 0.23283276\n",
      " ,” said the Dormouse.\n",
      "\n",
      "“Don’t talk nonsense,” said Alice more boldly: “you know you’re growing\n",
      "too.”\n",
      "\n",
      "“Yes, but _I_ grow at a reasonable pace,” said the Dormouse: “not in\n",
      "that ridiculous fashion.” And ..\n",
      "\n",
      ">> 2_5 (score): 0.22509444\n",
      "  of expecting nothing but out-of-the-way\n",
      "things to happen, that it seemed quite dull and stupid for life to go\n",
      "on in the common way.\n",
      "\n",
      "So she set to work, and very soon finished off the cake.\n",
      "\n",
      "*      * ..\n",
      "\n",
      ">> 9_3 (score): 0.22393751\n",
      "  roared the Queen, and Alice joined the procession,\n",
      "wondering very much what would happen next.\n",
      "\n",
      "“It’s—it’s a very fine day!” said a timid voice at her side. She was\n",
      "walking by the White Rabbit, who w ..\n",
      "\n",
      ">> 9_2 (score): 0.22254139\n",
      "  at processions; “and besides, what would be the use of a\n",
      "procession,” thought she, “if people had all to lie down upon their\n",
      "faces, so that they couldn’t see it?” So she stood still where she was,\n",
      "an ..\n",
      "\n",
      ">> 2_2 (score): 0.22014825\n",
      "  thousand miles down, I think—” (for, you see, Alice had learnt\n",
      "several things of this sort in her lessons in the schoolroom, and\n",
      "though this was not a _very_ good opportunity for showing off her\n",
      "know ..\n",
      "\n"
     ]
    },
    {
     "name": "stderr",
     "output_type": "stream",
     "text": [
      "/var/folders/9j/dq11054j6sg0m5lt67ct6fr40000gq/T/ipykernel_33922/196245737.py:4: DeprecationWarning: `search` method is deprecated and will be removed in the future. Use `query_points` instead.\n",
      "  hits = qdrant.search(collection_name=COLLECTION, query_vector=vec, limit=topk)\n"
     ]
    }
   ],
   "source": [
    "# Embedding search with Qdrant \n",
    "def semantic_search(query, topk=7):\n",
    "    vec = embedder.encode([query], normalize_embeddings=True)[0].tolist()\n",
    "    hits = qdrant.search(collection_name=COLLECTION, query_vector=vec, limit=topk)\n",
    "    return [(h.payload, h.score) for h in hits]\n",
    "\n",
    "print(\"Semantic Results for 'Elizabeth Bennet':\")\n",
    "for res, score in semantic_search(\"Elizabeth Bennet\"):\n",
    "    print(f\">> {res[\"chunk_id\"]} (score): {score}\\n\", res[\"text\"][:200], \"..\\n\")\n"
   ]
  },
  {
   "cell_type": "code",
   "execution_count": 15,
   "id": "eaf7b2c7",
   "metadata": {},
   "outputs": [
    {
     "name": "stderr",
     "output_type": "stream",
     "text": [
      "/var/folders/9j/dq11054j6sg0m5lt67ct6fr40000gq/T/ipykernel_33922/196245737.py:4: DeprecationWarning: `search` method is deprecated and will be removed in the future. Use `query_points` instead.\n",
      "  hits = qdrant.search(collection_name=COLLECTION, query_vector=vec, limit=topk)\n"
     ]
    },
    {
     "name": "stdout",
     "output_type": "stream",
     "text": [
      "{\n",
      "  \"hit_rate_at_5\": 0.33191489361702126,\n",
      "  \"mrr_at_5\": 0.2027659574468085,\n",
      "  \"hit_rate_at_7\": 0.42127659574468085,\n",
      "  \"mrr_at_7\": 0.2165450861195542,\n",
      "  \"total_queries\": 235\n",
      "}\n"
     ]
    }
   ],
   "source": [
    "# Return search ids only for BM25\n",
    "def semantic_search_ids(query: str, topk=7):\n",
    "    search_results = semantic_search(query, topk)\n",
    "    return[c['chunk_id'] for c, score in search_results]\n",
    "\n",
    "eval_res = evaluate(semantic_search_ids)\n",
    "print(json.dumps(eval_res, indent=2))"
   ]
  },
  {
   "cell_type": "code",
   "execution_count": null,
   "id": "1d9b3c0d",
   "metadata": {},
   "outputs": [],
   "source": [
    "\n"
   ]
  },
  {
   "cell_type": "code",
   "execution_count": 16,
   "id": "120e37d0",
   "metadata": {},
   "outputs": [],
   "source": [
    "# RRF Fusion \n",
    "\n",
    "def rrf_fusion(bm25_results, embed_results, k=7, c=60):\n",
    "    \"\"\"\n",
    "    Fuse BM25 + Embedding rankings using Reciprocal Rank Fusion (RRF).\n",
    "    \n",
    "    Returns:\n",
    "        list of chunk_ids (top-k fused)\n",
    "    \"\"\"\n",
    "    ranks = defaultdict(float)\n",
    "\n",
    "    # BM25 contribution\n",
    "    for rank, (chunk, _) in enumerate(bm25_results, start=1):\n",
    "        ranks[chunk[\"chunk_id\"]] += 1.0 / (c + rank)\n",
    "\n",
    "    # Embedding contribution\n",
    "    for rank, (chunk, _) in enumerate(embed_results, start=1):\n",
    "        ranks[chunk[\"chunk_id\"]] += 1.0 / (c + rank)\n",
    "\n",
    "    # Sort by fused score\n",
    "    fused = sorted(ranks.items(), key=lambda x: -x[1])[:k]\n",
    "    return [cid for cid, _ in fused]\n"
   ]
  },
  {
   "cell_type": "code",
   "execution_count": 18,
   "id": "dea4e52f",
   "metadata": {},
   "outputs": [],
   "source": [
    "def rrf_search_ids(query: str, topk=7):\n",
    "    bm25_results = bm25_search(query, topk * 2)   \n",
    "    embed_results = semantic_search(query, topk * 2) \n",
    "    return rrf_fusion(bm25_results, embed_results, k=topk)\n"
   ]
  },
  {
   "cell_type": "code",
   "execution_count": 19,
   "id": "04cf0599",
   "metadata": {},
   "outputs": [
    {
     "name": "stderr",
     "output_type": "stream",
     "text": [
      "/var/folders/9j/dq11054j6sg0m5lt67ct6fr40000gq/T/ipykernel_33922/196245737.py:4: DeprecationWarning: `search` method is deprecated and will be removed in the future. Use `query_points` instead.\n",
      "  hits = qdrant.search(collection_name=COLLECTION, query_vector=vec, limit=topk)\n"
     ]
    },
    {
     "name": "stdout",
     "output_type": "stream",
     "text": [
      "BM25: {\n",
      "  \"hit_rate_at_5\": 0.49361702127659574,\n",
      "  \"mrr_at_5\": 0.32666666666666666,\n",
      "  \"hit_rate_at_7\": 0.5404255319148936,\n",
      "  \"mrr_at_7\": 0.33396149949341436,\n",
      "  \"total_queries\": 235\n",
      "}\n",
      "Semantic: {\n",
      "  \"hit_rate_at_5\": 0.33191489361702126,\n",
      "  \"mrr_at_5\": 0.2027659574468085,\n",
      "  \"hit_rate_at_7\": 0.42127659574468085,\n",
      "  \"mrr_at_7\": 0.2165450861195542,\n",
      "  \"total_queries\": 235\n",
      "}\n",
      "Hybrid RRF: {\n",
      "  \"hit_rate_at_5\": 0.48936170212765956,\n",
      "  \"mrr_at_5\": 0.28652482269503543,\n",
      "  \"hit_rate_at_7\": 0.5872340425531914,\n",
      "  \"mrr_at_7\": 0.3016210739614995,\n",
      "  \"total_queries\": 235\n",
      "}\n"
     ]
    }
   ],
   "source": [
    "eval_bm25 = evaluate(lambda q: [c[\"chunk_id\"] for c, s in bm25_search(q, 7)])\n",
    "eval_embed = evaluate(lambda q: [c[\"chunk_id\"] for c, s in semantic_search(q, 7)])\n",
    "eval_rrf   = evaluate(rrf_search_ids)\n",
    "\n",
    "print(\"BM25:\", json.dumps(eval_bm25, indent=2))\n",
    "print(\"Semantic:\", json.dumps(eval_embed, indent=2))\n",
    "print(\"Hybrid RRF:\", json.dumps(eval_rrf, indent=2))"
   ]
  },
  {
   "cell_type": "code",
   "execution_count": 21,
   "id": "e20329ba",
   "metadata": {},
   "outputs": [
    {
     "name": "stderr",
     "output_type": "stream",
     "text": [
      "/var/folders/9j/dq11054j6sg0m5lt67ct6fr40000gq/T/ipykernel_33922/196245737.py:4: DeprecationWarning: `search` method is deprecated and will be removed in the future. Use `query_points` instead.\n",
      "  hits = qdrant.search(collection_name=COLLECTION, query_vector=vec, limit=topk)\n"
     ]
    },
    {
     "name": "stdout",
     "output_type": "stream",
     "text": [
      "RRF negatives: 97 / 235\n",
      "Sample negative: [\n",
      "  {\n",
      "    \"query\": \"Alice's encounters with characters\",\n",
      "    \"gold_id\": \"1_1\",\n",
      "    \"retrieved\": [\n",
      "      \"13_4\",\n",
      "      \"9_3\",\n",
      "      \"9_5\",\n",
      "      \"3_3\",\n",
      "      \"8_5\",\n",
      "      \"4_1\",\n",
      "      \"13_5\"\n",
      "    ]\n",
      "  },\n",
      "  {\n",
      "    \"query\": \"What does Alice wish for with the key?\",\n",
      "    \"gold_id\": \"2_2\",\n",
      "    \"retrieved\": [\n",
      "      \"8_4\",\n",
      "      \"9_4\",\n",
      "      \"12_1\",\n",
      "      \"5_2\",\n",
      "      \"8_3\",\n",
      "      \"6_2\",\n",
      "      \"13_4\"\n",
      "    ]\n",
      "  },\n",
      "  {\n",
      "    \"query\": \"bottle with 'DRINK ME' label\",\n",
      "    \"gold_id\": \"2_2\",\n",
      "    \"retrieved\": [\n",
      "      \"5_2\",\n",
      "      \"5_1\",\n",
      "      \"2_3\",\n",
      "      \"10_1\",\n",
      "      \"5_6\",\n",
      "      \"4_1\",\n",
      "      \"8_1\"\n",
      "    ]\n",
      "  },\n",
      "  {\n",
      "    \"query\": \"Who is Dinah?\",\n",
      "    \"gold_id\": \"2_2\",\n",
      "    \"retrieved\": [\n",
      "      \"11_4\",\n",
      "      \"3_2\",\n",
      "      \"3_4\",\n",
      "      \"5_4\",\n",
      "      \"12_1\",\n",
      "      \"4_3\",\n",
      "      \"4_2\"\n",
      "    ]\n",
      "  },\n",
      "  {\n",
      "    \"query\": \"What does Alice's wish to be smaller symbolize?\",\n",
      "    \"gold_id\": \"2_2\",\n",
      "    \"retrieved\": [\n",
      "      \"3_3\",\n",
      "      \"4_3\",\n",
      "      \"5_2\",\n",
      "      \"6_5\",\n",
      "      \"10_1\",\n",
      "      \"13_4\",\n",
      "      \"6_2\"\n",
      "    ]\n",
      "  }\n",
      "]\n"
     ]
    }
   ],
   "source": [
    "def get_negatives(search_method, k=7):\n",
    "    negatives = []\n",
    "    for item in aiw_gt:\n",
    "        gold_id = item['gold_id']\n",
    "        query = item['query']\n",
    "        res_ids = search_method(query)\n",
    "\n",
    "        if gold_id not in res_ids[:k]:\n",
    "            negatives.append({\n",
    "                \"query\": query,\n",
    "                \"gold_id\": gold_id,\n",
    "                \"retrieved\": res_ids\n",
    "            })\n",
    "    return negatives\n",
    "\n",
    "negatives_rrf = get_negatives(rrf_search_ids, k=7)\n",
    "print(f\"RRF negatives: {len(negatives_rrf)} / {len(aiw_gt)}\")\n",
    "print(\"Sample negative:\", json.dumps(negatives_rrf[0:5], indent=2))\n"
   ]
  },
  {
   "cell_type": "code",
   "execution_count": null,
   "id": "857f22b1",
   "metadata": {},
   "outputs": [],
   "source": []
  }
 ],
 "metadata": {
  "kernelspec": {
   "display_name": "book-mate",
   "language": "python",
   "name": "python3"
  },
  "language_info": {
   "codemirror_mode": {
    "name": "ipython",
    "version": 3
   },
   "file_extension": ".py",
   "mimetype": "text/x-python",
   "name": "python",
   "nbconvert_exporter": "python",
   "pygments_lexer": "ipython3",
   "version": "3.13.5"
  }
 },
 "nbformat": 4,
 "nbformat_minor": 5
}
