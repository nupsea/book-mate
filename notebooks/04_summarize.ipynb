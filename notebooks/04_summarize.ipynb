{
 "cells": [
  {
   "cell_type": "code",
   "execution_count": 1,
   "id": "ecb3fd4a",
   "metadata": {},
   "outputs": [],
   "source": [
    "import asyncio\n",
    "from collections import defaultdict\n",
    "from openai import AsyncOpenAI\n",
    "\n",
    "client = AsyncOpenAI()\n",
    "semaphore = asyncio.Semaphore(4)  # allow max 4 in parallel\n",
    "\n",
    "\n",
    "# --------------------------\n",
    "# Summarizer Functions\n",
    "# --------------------------\n",
    "\n",
    "async def summarize_chapter(text, sid, text_id):\n",
    "    \"\"\"Summarize a single chapter.\"\"\"\n",
    "    async with semaphore:\n",
    "        prompt = f\"\"\"\n",
    "        Summarize this chapter from the book into 1–2 concise paragraphs.\n",
    "        Capture key events, themes, and character actions.\n",
    "        Avoid bullet points. Do not mention chunking.\n",
    "\n",
    "        Chapter text:\n",
    "        {text}\n",
    "        \"\"\"\n",
    "        resp = await client.chat.completions.create(\n",
    "            model=\"gpt-4o-mini\",  # fast + cheap\n",
    "            messages=[{\"role\": \"user\", \"content\": prompt}],\n",
    "            temperature=0.3,\n",
    "        )\n",
    "        return {\n",
    "            \"text_id\": text_id,\n",
    "            \"chapter_id\": sid,\n",
    "            \"summary\": str(resp.choices[0].message.content).strip()\n",
    "        }\n",
    "\n",
    "\n",
    "async def summarize_book(chapter_summaries, text_id):\n",
    "    \"\"\"Synthesize whole-book summary from chapter summaries.\"\"\"\n",
    "    joined = \"\\n\\n\".join(\n",
    "        [f\"Chapter {c['chapter_id']}: {c['summary']}\" for c in chapter_summaries]\n",
    "    )\n",
    "    prompt = f\"\"\"\n",
    "    Here are summaries of each chapter of a book.\n",
    "    Write a single cohesive overall summary of the book in 2–3 paragraphs. \n",
    "    Do NOT enumerate chapter by chapter. Instead, merge into one flowing narrative. \n",
    "    Focus on major themes, central characters, and the overall arc.\n",
    "\n",
    "    Chapter summaries:\n",
    "    {joined}\n",
    "    \"\"\"\n",
    "    resp = await client.chat.completions.create(\n",
    "        model=\"gpt-4o\",  # can use bigger model for better synthesis\n",
    "        messages=[{\"role\": \"user\", \"content\": prompt}],\n",
    "        temperature=0.3,\n",
    "    )\n",
    "    return {\n",
    "        \"book_id\": text_id,\n",
    "        \"summary\": resp.choices[0].message.content.strip()\n",
    "    }\n",
    "\n",
    "\n",
    "async def summarize_hierarchy(chunks, text_id):\n",
    "    \"\"\"\n",
    "    Summarize book hierarchy\n",
    "    \"\"\"\n",
    "    # Group chunks by chapter_id (sid)\n",
    "    section_map = defaultdict(list)\n",
    "    for c in chunks:\n",
    "        sid = int(c[\"id\"].split(\"_\")[1])  # parse sid from id\n",
    "        section_map[sid].append(c[\"text\"])\n",
    "\n",
    "    # Join chapter text\n",
    "    chapters = {sid: \"\\n\".join(texts) for sid, texts in section_map.items()}\n",
    "\n",
    "    # Summarize chapters in parallel\n",
    "    tasks = [summarize_chapter(text, sid, text_id) for sid, text in chapters.items()]\n",
    "    chapter_summaries = await asyncio.gather(*tasks)\n",
    "\n",
    "    # Summarize entire book\n",
    "    book_summary = await summarize_book(chapter_summaries, text_id)\n",
    "\n",
    "    return chapter_summaries, book_summary\n"
   ]
  },
  {
   "cell_type": "code",
   "execution_count": null,
   "id": "13df053b",
   "metadata": {},
   "outputs": [],
   "source": []
  },
  {
   "cell_type": "code",
   "execution_count": 2,
   "id": "2e203dd2",
   "metadata": {},
   "outputs": [],
   "source": [
    "\n",
    "import re\n",
    "import tiktoken\n",
    "import hashlib\n",
    "\n",
    "from pathlib import Path\n",
    "\n",
    "\n",
    "class TextReader:\n",
    "\n",
    "    def __init__(self, file_path, text_id, source, split_pattern=None) -> None:\n",
    "        self.file_path = Path(file_path)\n",
    "        self.source = source\n",
    "        self.text = \"\"\n",
    "        self.enc = tiktoken.get_encoding('cl100k_base')\n",
    "        self.pattern = split_pattern or r\"^(?:CHAPTER [IVXLCDM]+\\.)\\s*\\n\"\n",
    "        self.text_id = text_id \n",
    "\n",
    "\n",
    "    @staticmethod\n",
    "    def simple_hash(text: str, length: int = 7) -> str:\n",
    "        return hashlib.md5(text.encode(\"utf-8\")).hexdigest()[:length]\n",
    "\n",
    "    def _section_split(self):\n",
    "        return re.split(self.pattern, self.text, flags=re.IGNORECASE | re.MULTILINE)\n",
    "\n",
    "    def _chunk_split(self, section: str, max_tokens=1000, overlap=100):\n",
    "        tokens = self.enc.encode(section)\n",
    "        chunks = []\n",
    "        for i in range(0, len(tokens), max_tokens - overlap):\n",
    "            chunk = self.enc.decode(tokens[i:i+max_tokens])\n",
    "            chunks.append(chunk)\n",
    "        return chunks\n",
    "\n",
    "    def parse_into_chunks(self, max_tokens=800, overlap=100):\n",
    "        sections = self._section_split()\n",
    "        all_chunks = []\n",
    "        for sid, section in enumerate(sections): \n",
    "            section_chunks = self._chunk_split(section, max_tokens, overlap)\n",
    "            for cid, sub in enumerate(section_chunks):\n",
    "                hash_id = TextReader.simple_hash(sub)\n",
    "                all_chunks.append(\n",
    "                    {\n",
    "                        \"id\": f\"{self.text_id}_{sid+1:02d}_{cid+1:03d}_{hash_id}\",\n",
    "                        \"text\": sub,\n",
    "                        \"num_tokens\": len(self.enc.encode(sub)),\n",
    "                        \"num_chars\": len(sub)\n",
    "                    }\n",
    "                )\n",
    "        return all_chunks\n",
    "\n",
    "\n",
    "\n",
    "class GutenbergReader(TextReader):\n",
    "\n",
    "    def __init__(self, file_path, text_id, source=\"gutenberg\", split_pattern=None):\n",
    "        super().__init__(file_path, text_id=text_id, source=source, split_pattern=split_pattern)\n",
    "\n",
    "\n",
    "    def _strip_gutenberg(self, text: str) -> str:\n",
    "        start_match = re.search(r\"\\*\\*\\* START OF.*\\*\\*\\*\", text)\n",
    "        end_match = re.search(r\"\\*\\*\\* END OF.*\\*\\*\\*\", text)\n",
    "        if start_match and end_match:\n",
    "            return text[start_match.end(): end_match.start()]\n",
    "        return text\n",
    "    \n",
    "    def parse(self, max_tokens=500, overlap=100):\n",
    "        book_path = Path(self.file_path)\n",
    "        raw_text = book_path.read_text(encoding=\"utf-8\")\n",
    "\n",
    "        self.text = self._strip_gutenberg(raw_text)\n",
    "        print(\"Clean word count:\", len(self.text.split()))\n",
    "    \n",
    "        chunks = self.parse_into_chunks(max_tokens, overlap)\n",
    "        return chunks"
   ]
  },
  {
   "cell_type": "code",
   "execution_count": null,
   "id": "6ca8ad21",
   "metadata": {},
   "outputs": [],
   "source": [
    "\n"
   ]
  },
  {
   "cell_type": "code",
   "execution_count": 3,
   "id": "805827e6",
   "metadata": {},
   "outputs": [],
   "source": [
    "import os\n",
    "import psycopg2\n",
    "from psycopg2.extras import execute_values\n",
    "\n",
    "from dotenv import load_dotenv\n",
    "\n",
    "load_dotenv()  # reads .env\n",
    "\n",
    "DB_CONFIG = {\n",
    "    \"dbname\": os.getenv(\"PG_DB\", \"booksdb\"),\n",
    "    \"user\": os.getenv(\"PG_USER\", \"bookuser\"),\n",
    "    \"password\": os.getenv(\"PG_PASS\", \"bookpass\"),\n",
    "    \"host\": \"localhost\",\n",
    "    \"port\": os.getenv(\"PG_PORT\", 5432),\n",
    "}\n",
    "\n",
    "class Summarizer:\n",
    "\n",
    "    def __init__(self, conn=None) -> None:\n",
    "        self.conn = conn or psycopg2.connect(**DB_CONFIG)\n",
    "\n",
    "\n",
    "    def store_summaries(self, chapter_summaries, book_summary):\n",
    "        conn = psycopg2.connect(**DB_CONFIG)\n",
    "        with conn.cursor() as cur:\n",
    "            # Insert chapters\n",
    "            rows = [(c[\"text_id\"], c[\"chapter_id\"], c[\"summary\"]) for c in chapter_summaries]\n",
    "            execute_values(cur, \"\"\"\n",
    "                INSERT INTO chapter_summaries (text_id, chapter_id, summary)\n",
    "                VALUES %s\n",
    "                ON CONFLICT (text_id, chapter_id) DO UPDATE SET summary = excluded.summary\n",
    "            \"\"\", rows)\n",
    "\n",
    "            # Insert book summary\n",
    "            cur.execute(\"\"\"\n",
    "                INSERT INTO book_summaries (book_id, summary)\n",
    "                VALUES (%s, %s)\n",
    "                ON CONFLICT (book_id) DO UPDATE SET summary = excluded.summary\n",
    "            \"\"\", (book_summary[\"book_id\"], book_summary[\"summary\"]))\n",
    "\n",
    "        conn.commit()\n",
    "        conn.close()\n",
    "\n",
    "\n",
    "    def get_chapter_summary(self, book_id: str, chapter_id: int) -> str | None:\n",
    "        \"\"\"Fetch one chapter summary from DB.\"\"\"\n",
    "        with self.conn.cursor() as cur:\n",
    "            cur.execute(\n",
    "                \"\"\"\n",
    "                SELECT summary \n",
    "                FROM chapter_summaries\n",
    "                WHERE text_id = %s AND chapter_id = %s\n",
    "                \"\"\",\n",
    "                (book_id, chapter_id),\n",
    "            )\n",
    "            row = cur.fetchone()\n",
    "        self.conn.close()\n",
    "        return row[0] if row else None\n",
    "\n",
    "\n",
    "    def get_all_chapter_summaries(self, book_id: str) -> list[tuple[int, str]]:\n",
    "        \"\"\"Fetch all chapter summaries for a book, ordered by chapter_id.\"\"\"\n",
    "        with self.conn.cursor() as cur:\n",
    "            cur.execute(\n",
    "                \"\"\"\n",
    "                SELECT chapter_id, summary\n",
    "                FROM chapter_summaries\n",
    "                WHERE text_id = %s\n",
    "                ORDER BY chapter_id\n",
    "                \"\"\",\n",
    "                (book_id,),\n",
    "            )\n",
    "            rows = cur.fetchall()\n",
    "        self.conn.close()\n",
    "        return rows \n",
    "\n",
    "\n",
    "    def get_book_summary(self, book_id: str) -> str | None:\n",
    "        \"\"\"Fetch the overall book summary.\"\"\"\n",
    "        with self.conn.cursor() as cur:\n",
    "            cur.execute(\n",
    "                \"\"\"\n",
    "                SELECT summary\n",
    "                FROM book_summaries\n",
    "                WHERE book_id = %s\n",
    "                \"\"\",\n",
    "                (book_id,),\n",
    "            )\n",
    "            row = cur.fetchone()\n",
    "        self.conn.close()\n",
    "        return row[0] if row else None\n",
    "            "
   ]
  },
  {
   "cell_type": "markdown",
   "id": "d43cd12a",
   "metadata": {},
   "source": [
    "### Connect to Debug\n",
    "\n",
    "`psql -h localhost -U bookuser -d booksdb`\n",
    "\n"
   ]
  },
  {
   "cell_type": "code",
   "execution_count": 4,
   "id": "990cbffc",
   "metadata": {},
   "outputs": [
    {
     "name": "stdout",
     "output_type": "stream",
     "text": [
      "Clean word count: 26525\n",
      "Summaries stored in DB.\n"
     ]
    }
   ],
   "source": [
    "\n",
    "FILE_PATH = \"../DATA/alice_in_wonderland.txt\"\n",
    "reader = GutenbergReader(FILE_PATH, \"aiw\")\n",
    "chunks = reader.parse(max_tokens=500, overlap=100)\n",
    "\n",
    "\n",
    "# One time load\n",
    "\n",
    "# chapter_summaries, book_summary = asyncio.run(\n",
    "#     summarize_hierarchy(chunks, text_id=\"aiw\")\n",
    "# )\n",
    "# chapter_summaries, book_summary = await summarize_hierarchy(chunks, text_id=\"aiw\")\n",
    "\n",
    "# s = Summarizer()\n",
    "# s.store_summaries(chapter_summaries, book_summary)\n",
    "print(\"Summaries stored in DB.\")\n"
   ]
  },
  {
   "cell_type": "code",
   "execution_count": 5,
   "id": "21cf3cc5",
   "metadata": {},
   "outputs": [
    {
     "data": {
      "text/plain": [
       "{'id': 'aiw_01_001_de2f1cf',\n",
       " 'text': '\\n\\n[Illustration]\\n\\n\\n\\n\\nAlice’s Adventures in Wonderland\\n\\nby Lewis Carroll\\n\\nTHE MILLENNIUM FULCRUM EDITION 3.0\\n\\nContents\\n\\n CHAPTER I.     Down the Rabbit-Hole\\n CHAPTER II.    The Pool of Tears\\n CHAPTER III.   A Caucus-Race and a Long Tale\\n CHAPTER IV.    The Rabbit Sends in a Little Bill\\n CHAPTER V.     Advice from a Caterpillar\\n CHAPTER VI.    Pig and Pepper\\n CHAPTER VII.   A Mad Tea-Party\\n CHAPTER VIII.  The Queen’s Croquet-Ground\\n CHAPTER IX.    The Mock Turtle’s Story\\n CHAPTER X.     The Lobster Quadrille\\n CHAPTER XI.    Who Stole the Tarts?\\n CHAPTER XII.   Alice’s Evidence\\n\\n\\n\\n\\n',\n",
       " 'num_tokens': 159,\n",
       " 'num_chars': 586}"
      ]
     },
     "execution_count": 5,
     "metadata": {},
     "output_type": "execute_result"
    }
   ],
   "source": [
    "chunks[0]"
   ]
  },
  {
   "cell_type": "code",
   "execution_count": 6,
   "id": "2742849a",
   "metadata": {},
   "outputs": [
    {
     "name": "stdout",
     "output_type": "stream",
     "text": [
      "\"Alice's Adventures in Wonderland\" is a whimsical tale that follows the journey of a young girl named Alice, who stumbles into a fantastical world after following a peculiar White Rabbit down a rabbit hole. This world, known as Wonderland, is filled with bizarre creatures and illogical events that challenge Alice's understanding of reality. Throughout her journey, Alice encounters a series of eccentric characters, including the Cheshire Cat, the Mad Hatter, and the Queen of Hearts, each contributing to the chaotic and nonsensical nature of Wonderland. As Alice navigates this strange environment, she grapples with questions of identity and self-perception, often feeling isolated and confused by the absurdity surrounding her.\n",
      "\n",
      "The narrative explores themes of curiosity, the quest for identity, and the transition from childhood innocence to the complexities of adulthood. Alice's interactions with the inhabitants of Wonderland highlight her growing assertiveness and resilience in the face of authority and chaos. Her adventures culminate in a surreal courtroom scene where she challenges the illogical proceedings, ultimately asserting her independence and awakening from what she realizes was a dream. The story concludes with a reflection on the enduring power of imagination and the innocence of childhood, leaving readers with a sense of nostalgia and wonder. Through Alice's journey, Lewis Carroll invites readers to embrace the whimsical and the extraordinary, reminding us of the limitless possibilities of the imagination.\n"
     ]
    }
   ],
   "source": [
    "s = Summarizer()\n",
    "print(s.get_book_summary(\"aiw\"))"
   ]
  },
  {
   "cell_type": "code",
   "execution_count": 7,
   "id": "ebc3ccd2",
   "metadata": {},
   "outputs": [
    {
     "name": "stdout",
     "output_type": "stream",
     "text": [
      "In \"The Rabbit Sends in a Little Bill,\" Alice encounters the White Rabbit, who is frantically searching for a fan and gloves, mistaking her for his housemaid, Mary Ann. Complying with his demands, Alice rushes to the Rabbit's house, where she finds the items but also discovers a mysterious bottle that causes her to grow uncontrollably large. As she struggles to fit in the room, she becomes increasingly uncomfortable and anxious about her situation. The Rabbit and other characters outside, including a creature named Bill, attempt to figure out how to deal with her size, leading to a chaotic scene filled with broken glass and confusion.\n",
      "\n",
      "As Alice continues to grow, she eventually finds a way to shrink by eating a cake that turns into little cakes scattered on the floor. Once she returns to a manageable size, she escapes the house and encounters a large puppy, which she initially fears might eat her. After a playful yet frightening interaction with the puppy, Alice reflects on her desire to grow back to her original size and contemplates how to achieve it. She notices a large mushroom nearby and decides to investigate, hoping it will provide the solution she seeks, setting the stage for her next adventure with a blue caterpillar sitting atop it.\n"
     ]
    }
   ],
   "source": [
    "s = Summarizer()\n",
    "print(s.get_chapter_summary(\"aiw\", 5))"
   ]
  },
  {
   "cell_type": "code",
   "execution_count": 8,
   "id": "410e5436",
   "metadata": {},
   "outputs": [
    {
     "name": "stdout",
     "output_type": "stream",
     "text": [
      "Clean word count: 71957\n"
     ]
    }
   ],
   "source": [
    "\n",
    "FILE_PATH = \"../DATA/meditations_marcus_aurelius.txt\"\n",
    "mma_reader = GutenbergReader(FILE_PATH, \"mma\", split_pattern=r\"^(?:[A-Z\\s]+BOOK)\\s*\\n$\")\n",
    "mma_chunks = mma_reader.parse(max_tokens=500, overlap=100)"
   ]
  },
  {
   "cell_type": "code",
   "execution_count": 9,
   "id": "4698d917",
   "metadata": {},
   "outputs": [
    {
     "data": {
      "text/plain": [
       "251"
      ]
     },
     "execution_count": 9,
     "metadata": {},
     "output_type": "execute_result"
    }
   ],
   "source": [
    "len(mma_chunks)"
   ]
  },
  {
   "cell_type": "code",
   "execution_count": 10,
   "id": "85732eb6",
   "metadata": {},
   "outputs": [
    {
     "data": {
      "text/plain": [
       "{'id': 'mma_15_046_1e7f172',\n",
       " 'text': ', a very successful general at the end of\\nthe Roman Republic (106-48 B.C.).\\n\\nPrestidigitator, juggler.\\n\\nPythagoras of Samos, a philosopher, scientist, and moralist of the 6th\\ncentury B.C.\\n\\nQUADI, a tribe of S. Germany.\\n\\nM. Aurelius carried on war against them, and part of this book was\\nwritten in the field.\\n\\nRICTUS, gape, jaws.\\n\\nRusticus, Q. Junius, or Stoic philosopher, twice made consul by M.\\nAurelius.\\n\\nSACRARY, shrine.\\n\\nSalaminius, Book 7, XXXVII. Leon of Sala-mis. Socrates was ordered by\\nthe Thirty Tyrants to fetch him before them, and Socrates, at his own\\nperil, refused.\\n\\nSarmatae, a tribe dwelling in Poland.\\n\\nSceletum, skeleton.\\n\\nSceptics, a school of philosophy founded by Pyrrho (4th century B.C.).\\nHe advocated \"suspension of judgment,\" and taught the relativity of\\nknowledge and impossibility of proof. The school is not unlike the\\nAgnostic school.\\n\\nScipio, the name of two great soldiers, P. Corn. Scipio Africanus,\\nconqueror of Hannibal, and P.\\n\\nCorn. Sc. Afr. Minor, who came into the family by adoption, who\\ndestroyed Carthage.\\n\\nSecutoriani (a word coined by C.), the Sececutores, light-armed\\ngladiators, who were pitted against others with net and trident.\\n\\nSextus of Chaeronea, a Stoic philosopher, nephew of Plutarch.\\n\\nSilly, simple, common.\\n\\nSinuessa, a town in Latium.\\n\\nSocrates, an Athenian philosopher (469-399 B.C.), founder of the\\ndialectic method. Put to death on a trumped-up charge by his countrymen.\\n\\nStint, limit (without implying niggardliness).\\n\\nStoics, a philosophic system founded by Zeno (4th century B.C.), and\\nsystematised by Chrysippus (3rd century B.C.). Their physical theory\\nwas a pantheistic materialism, their summum bonum \"to live according\\nto nature.\" Their wise man needs nothing, he is sufficient to himself;\\nvirtue is',\n",
       " 'num_tokens': 500,\n",
       " 'num_chars': 1771}"
      ]
     },
     "execution_count": 10,
     "metadata": {},
     "output_type": "execute_result"
    }
   ],
   "source": [
    "mma_chunks[-2]"
   ]
  },
  {
   "cell_type": "code",
   "execution_count": 11,
   "id": "ece601e1",
   "metadata": {},
   "outputs": [],
   "source": [
    "\n",
    "# chapter_summaries, book_summary = await summarize_hierarchy(mma_chunks, text_id=\"mma\")\n",
    "\n",
    "# s = Summarizer()\n",
    "# s.store_summaries(chapter_summaries, book_summary)\n",
    "# print(\"Summaries stored in DB.\")"
   ]
  },
  {
   "cell_type": "code",
   "execution_count": 12,
   "id": "b2ee0568",
   "metadata": {},
   "outputs": [
    {
     "name": "stdout",
     "output_type": "stream",
     "text": [
      "The book presents a profound exploration of the life and philosophy of Marcus Aurelius Antoninus, weaving together his personal experiences, philosophical reflections, and the broader themes of Stoicism. Born into a noble lineage, Marcus's early life was marked by personal loss and the influence of significant mentors, shaping his philosophical inclinations towards Stoicism. As he rose to power, co-emperor with Lucius Verus, Marcus faced numerous challenges, including wars and internal rebellions. Despite these trials, he remained committed to justice and demonstrated military prowess, though his reign was shadowed by personal tragedies and the controversial legacy of his son, Commodus. His philosophical work, *Meditations*, reveals a ruler deeply engaged with the concepts of duty, virtue, and happiness, emphasizing inner peace and moral integrity over external pleasures. This introspective journey highlights the paradoxes of his rule and his complex legacy, including his contentious treatment of Christians.\n",
      "\n",
      "Throughout the book, Marcus's reflections on virtues, the transient nature of life, and the interconnectedness of humanity underscore the Stoic belief in living in harmony with nature and reason. He emphasizes the importance of learning from others, cultivating virtues such as industry, modesty, and generosity, and recognizing the value of self-examination and personal growth. The narrative delves into the inevitability of death, urging readers to embrace life's transitory nature and focus on aligning actions with virtue and the common good. By advocating for a life of simplicity, integrity, and philosophical contemplation, the book offers a guide to achieving true fulfillment and happiness, grounded in self-awareness and a commitment to the greater good. Through Marcus's meditations, the text invites readers to reflect on their place within the cosmos, the nature of human relationships, and the pursuit of a virtuous life, ultimately fostering a deeper understanding of oneself and one's role in the world.\n"
     ]
    }
   ],
   "source": [
    "s = Summarizer()\n",
    "print(s.get_book_summary(\"mma\"))"
   ]
  },
  {
   "cell_type": "code",
   "execution_count": 14,
   "id": "41a4cb00",
   "metadata": {},
   "outputs": [
    {
     "name": "stdout",
     "output_type": "stream",
     "text": [
      "[\n",
      "  [\n",
      "    2,\n",
      "    \"In this chapter, the life and reign of Marcus Aurelius Antoninus are chronicled, highlighting his noble lineage, early education, and philosophical inclinations, particularly towards Stoicism. Born into a prominent family, Marcus faced early personal losses but was shaped by the teachings of his grandfather and other influential figures. His ascent to power began with his adoption by Antoninus Pius, leading to his eventual co-emperorship with Lucius Verus. Despite his philosophical grounding, Marcus faced significant challenges during his reign, including wars against external threats from barbarian tribes and internal strife, notably the rebellion of Avidius Cassius. Throughout these trials, he demonstrated both military capability and a commitment to justice, although his reign was marred by personal tragedies, including the loss of his children and the questionable legacy of his son Commodus.\\n\\nThe chapter also delves into Marcus's philosophical reflections, particularly as expressed in his *Meditations*, which reveal a man grappling with duty, virtue, and the nature of happiness amidst the burdens of leadership. His Stoic beliefs emphasized the importance of inner peace and moral integrity over external pleasures, contrasting with the prevailing Roman religious practices. Despite his achievements, Marcus's treatment of Christians during his reign remains a contentious aspect of his legacy. Ultimately, the chapter paints a portrait of a complex ruler\\u2014philosophical yet pragmatic, gentle yet resolute\\u2014whose life was marked by paradoxes and profound reflections on the human condition.\"\n",
      "  ],\n",
      "  [\n",
      "    3,\n",
      "    \"In this chapter, Antoninus reflects on the virtues he has observed in the people around him, including parents, friends, and mentors. He emphasizes the importance of recognizing and meditating on these admirable qualities, such as industry, modesty, and generosity, as a source of personal joy and inspiration. By contemplating these virtues, he encourages himself to cultivate similar traits within his own character.\\n\\nThe overarching theme is the value of learning from others and the impact of good examples on personal growth. Antoninus suggests that by keeping these virtues in mind and striving to embody them, one can find greater fulfillment and happiness in life. This introspective approach highlights the interconnectedness of human relationships and the potential for mutual improvement through the appreciation of each other's strengths.\"\n",
      "  ],\n",
      "  [\n",
      "    4,\n",
      "    \"In this chapter, the author reflects on the virtues and teachings he has inherited from various influential figures in his life, including family members, teachers, and philosophers. He emphasizes the importance of gentleness, humility, and self-restraint learned from his grandfather Verus, as well as the religious and generous nature instilled by his mother. The author expresses gratitude for the guidance of mentors like Rusticus and Apollonius, who helped him recognize the need for self-improvement and the pursuit of true wisdom. He also highlights the significance of maintaining a balanced and rational approach to life, avoiding excesses, and fostering kindness and understanding towards others.\\n\\nAs the chapter progresses, the author acknowledges the lessons learned from various individuals, including the importance of moderation, the value of true friendship, and the need for self-governance. He reflects on the nature of human relationships and the interconnectedness of all people, urging himself to remain unaffected by the negative traits of others. Ultimately, he advocates for a life lived in accordance with nature, guided by reason and virtue, while expressing gratitude for the blessings he has received, including a loving family and the opportunity to pursue philosophy. The chapter serves as a meditation on personal growth and the cultivation of a virtuous character through the wisdom of those who have come before him.\"\n",
      "  ],\n",
      "  [\n",
      "    5,\n",
      "    \"In this chapter, the author reflects on the fleeting nature of life and the importance of recognizing the limits of time. He urges the reader to confront their procrastination and to live each moment with intention and purpose, emphasizing that true happiness is derived from within rather than from external validation. The text explores themes of self-awareness, the nature of the universe, and the significance of aligning one's actions with reason and virtue. It warns against distractions and the futility of seeking approval from others, advocating instead for a life guided by personal integrity and philosophical contemplation.\\n\\nThe author also delves into the inevitability of death, framing it as a natural process that should not be feared. He encourages a mindset that embraces life's transitory nature, asserting that both good and bad experiences are neutral and should be met with equanimity. By focusing on the soul's purity and serving one's inner self, individuals can navigate life's challenges with grace. Ultimately, the chapter posits that philosophy is the key to achieving a fulfilling life, as it fosters resilience against external turmoil and cultivates a deep understanding of one's place within the cosmos.\"\n",
      "  ],\n",
      "  [\n",
      "    6,\n",
      "    \"In this chapter, the author reflects on the transient nature of life and the importance of using one's intellect wisely before it diminishes with age. He emphasizes that while physical faculties may remain intact, the ability to discern and act justly may fade, urging readers to act with urgency and purpose. The text explores the beauty found in the natural imperfections of life, suggesting that true understanding and appreciation come from recognizing the inherent value in all things, even those that seem flawed. \\n\\nThe author also critiques the tendency to become preoccupied with the actions and thoughts of others, advocating instead for a focus on one's own rational mind and moral integrity. He encourages living in accordance with virtues such as righteousness, truth, and temperance, while remaining indifferent to external accolades or material pursuits. Ultimately, the chapter underscores the significance of self-examination, the pursuit of virtue, and the acceptance of one's fate, framing a life well-lived as one that is aligned with reason and the greater good.\"\n",
      "  ],\n",
      "  [\n",
      "    7,\n",
      "    \"In this chapter, the author explores the nature of the human mind and its relationship with external events, emphasizing the importance of inner tranquility and rationality. The text argues that individuals possess the power to redirect their focus and intentions, adapting to circumstances that deviate from their original plans. It encourages a continuous inward retreat to cultivate peace and clarity, asserting that true contentment comes from aligning one's actions with virtue and understanding the transient nature of life. The author reflects on the inevitability of death and the futility of seeking external validation, urging readers to embrace their fate and live justly, regardless of external circumstances.\\n\\nThe chapter further delves into the interconnectedness of humanity, suggesting that all individuals are part of a larger rational order, akin to a city governed by common laws. It posits that suffering and misfortune are often rooted in personal perceptions rather than objective realities, advocating for a mindset that perceives events as natural occurrences rather than personal grievances. Ultimately, the text calls for a life of simplicity, focusing on necessary actions and thoughts that promote justice and virtue, while recognizing the fleeting nature of existence and the importance of living in accordance with one's true nature.\"\n",
      "  ],\n",
      "  [\n",
      "    8,\n",
      "    \"In this chapter, the author reflects on the nature of human existence and the importance of fulfilling one's purpose. The text emphasizes the necessity of action and engagement with the world, arguing that individuals are not born merely to seek comfort and pleasure but to contribute meaningfully to society. The author encourages self-examination, urging readers to consider their motivations and the nature of their actions, suggesting that true fulfillment comes from living in accordance with one's rational nature and the common good. The chapter also discusses the inevitability of death and the transient nature of life, prompting a focus on the cultivation of virtue and the importance of maintaining a positive disposition towards both oneself and others.\\n\\nThe author further explores the concept of societal interdependence, asserting that human beings are inherently social creatures meant to support one another. This interconnectedness is framed as a fundamental aspect of rational existence, where the pursuit of virtue and community is paramount. The text concludes with a reminder to embrace the present and live in accordance with one's values, highlighting that true happiness stems from good intentions and actions rather than external validation or material success. Ultimately, the chapter serves as a philosophical guide to living a meaningful life, grounded in self-awareness and a commitment to the greater good.\"\n",
      "  ],\n",
      "  [\n",
      "    9,\n",
      "    \"In this chapter, the author reflects on the nature of the universe and the rational essence that governs it, emphasizing that this essence is inherently good and incapable of evil. The text explores the transient nature of existence, urging readers to focus on their duties regardless of external circumstances, including life and death. The author advocates for a philosophical approach to life, encouraging self-examination and the understanding of true worth, while also addressing the futility of seeking validation from others. The chapter underscores the importance of living in accordance with one's rational nature and the interconnectedness of all things, suggesting that true happiness lies in aligning one's actions with reason and virtue.\\n\\nThe author also discusses the inevitability of change and the importance of accepting one's fate, promoting a mindset of equanimity in the face of life's challenges. By contemplating the impermanence of life and the shared fate of all individuals, the text encourages a focus on personal integrity and the cultivation of virtues. The chapter concludes with a reminder that one's true happiness is derived from within, emphasizing the power of the mind to shape perceptions and reactions to external events. Ultimately, it calls for a life lived in harmony with reason, community, and the divine order of the universe.\"\n",
      "  ],\n",
      "  [\n",
      "    10,\n",
      "    \"In this chapter, the author explores the nature of wickedness, fear, and the human experience, emphasizing that nothing is truly new or unique in the world. He argues that individuals possess the power to shape their perceptions and responses to events, suggesting that happiness is derived from living virtuously and aligning one's actions with reason and the common good. The text encourages readers to maintain a steadfast and calm demeanor in the face of life's challenges, recognizing that external circumstances do not inherently affect one's inner peace unless one allows them to.\\n\\nThe author also highlights the interconnectedness of all things and the inevitability of change, urging readers to embrace their roles within the larger framework of existence. He advocates for a life of simplicity, virtue, and charity, asserting that true happiness lies not in external validation but in the integrity of one's actions. By understanding the transient nature of life and the universality of human experiences, individuals can cultivate a sense of tranquility and purpose, ultimately leading to a more fulfilling existence.\"\n",
      "  ],\n",
      "  [\n",
      "    11,\n",
      "    \"In this chapter, the author reflects on the nature of human existence and the pursuit of a virtuous life, emphasizing the importance of self-awareness and moral integrity. The text urges the reader to reject the allure of external validation and material pursuits, recognizing that true happiness lies in living according to one's nature and moral principles. The author encourages introspection, prompting the reader to evaluate their actions and motivations, and to consider how they align with the common good. The chapter also highlights the transient nature of life and fame, reminding the reader that all individuals, regardless of status, ultimately face mortality and should focus on what is truly significant.\\n\\nThe discourse further explores the idea of interconnectedness among individuals and the universe, suggesting that one's actions should contribute to the greater good rather than be driven by personal desires or societal expectations. The author emphasizes the power of the mind to maintain peace and virtue, regardless of external circumstances, and advocates for a life of reason, kindness, and acceptance of the natural order. This philosophical approach serves as a guide for navigating life's challenges with equanimity and purpose, fostering a deeper understanding of oneself and one's place in the world.\"\n",
      "  ],\n",
      "  [\n",
      "    12,\n",
      "    \"In this chapter, the author explores the interconnectedness of justice, truth, and the nature of the universe, asserting that to act unjustly is to act against the divine order and the common good. The text emphasizes the importance of living in accordance with nature, which encompasses both pleasure and pain as indifferent elements of existence. The author argues that a wise individual should accept death as a natural process, much like the various stages of life, and should strive to maintain a clear mind free from falsehood and desires. This acceptance leads to a more profound understanding of life and death, encouraging individuals to focus on their actions and their impact on the common good rather than being swayed by external opinions or societal pressures.\\n\\nThe chapter further delves into the nature of human relationships, highlighting the innate desire for unity among rational beings, which has been obscured by discord and individualism. It calls for a return to mutual understanding and compassion, urging individuals to bear with the faults of others while recognizing their shared humanity. The author posits that true virtue lies not in external accolades but in the genuine pursuit of goodness and charity towards others. Ultimately, the text encourages readers to reflect on their thoughts and actions, fostering a mindset that prioritizes inner peace and the well-being of the community over transient worldly concerns.\"\n",
      "  ],\n",
      "  [\n",
      "    13,\n",
      "    \"In this chapter, the author reflects on the nature of the soul and its eventual liberation from worldly attachments, envisioning a time when the soul will be pure, content, and aligned with divine providence. The text emphasizes the importance of understanding one's nature as a rational and social being, advocating for a life guided by reason and virtue rather than external validations or material desires. The author encourages self-examination and acceptance of life's inevitable changes, urging readers to embrace their role within the larger universe and to act in harmony with nature and the common good.\\n\\nThe chapter further explores the transient nature of life and the futility of seeking approval from others, suggesting that true fulfillment comes from living authentically and in accordance with one's principles. It highlights the inevitability of death and the importance of facing it with equanimity, promoting a mindset that values inner peace over societal expectations. Ultimately, the author calls for a life of simplicity, integrity, and a deep connection to the shared human experience, reminding readers that their thoughts and actions define their reality.\"\n",
      "  ],\n",
      "  [\n",
      "    14,\n",
      "    \"In this chapter, the author explores the nature and capabilities of the human soul, emphasizing its unique ability to reflect, organize, and shape itself. The text discusses the soul's capacity for self-awareness, its pursuit of justice, and the importance of living virtuously. The author argues that true happiness stems from an inward power of the soul, which should remain indifferent to external circumstances and focus on maintaining a just and harmonious existence. The chapter also highlights the interconnectedness of humanity, suggesting that one\\u2019s actions should aim for the common good, as individual well-being is tied to the well-being of others.\\n\\nAdditionally, the author reflects on the nature of emotions such as anger and grief, advocating for a measured response that aligns with reason and virtue. The text warns against the dangers of succumbing to negative emotions and emphasizes the importance of maintaining a calm and loving demeanor, even towards those who may oppose or harm us. Through various philosophical references and examples, the chapter urges readers to cultivate a life of integrity, self-awareness, and compassion, ultimately leading to a more fulfilling and harmonious existence.\"\n",
      "  ],\n",
      "  [\n",
      "    15,\n",
      "    \"In this chapter, the author emphasizes the importance of focusing on the present and aligning oneself with divine providence to achieve true happiness. The text encourages readers to let go of past grievances and future anxieties, advocating for a life dedicated to holiness and righteousness. It highlights the significance of self-awareness and the cultivation of one's mind, suggesting that true freedom comes from detaching oneself from external opinions and material concerns. The chapter also reflects on the nature of existence, urging individuals to accept the inevitability of death and to live in accordance with nature, thereby finding peace and purpose in their actions.\\n\\nThe narrative further explores the human tendency to prioritize others' opinions over self-reflection, questioning why individuals often fear judgment from others more than they value their own self-assessment. It posits that understanding the transient nature of life and the interconnectedness of all beings can lead to a more profound sense of tranquility. By contemplating the essence of life, death, and the universe, the author encourages a philosophical approach to existence that fosters resilience and acceptance of one's fate, ultimately guiding readers toward a life of virtue and inner harmony.\"\n",
      "  ]\n",
      "]\n"
     ]
    }
   ],
   "source": [
    "import json\n",
    "s = Summarizer()\n",
    "js = s.get_all_chapter_summaries(\"mma\")\n",
    "print(json.dumps(js, indent=2))"
   ]
  },
  {
   "cell_type": "code",
   "execution_count": null,
   "id": "0e2e92c8",
   "metadata": {},
   "outputs": [],
   "source": []
  }
 ],
 "metadata": {
  "kernelspec": {
   "display_name": "book-mate",
   "language": "python",
   "name": "python3"
  },
  "language_info": {
   "codemirror_mode": {
    "name": "ipython",
    "version": 3
   },
   "file_extension": ".py",
   "mimetype": "text/x-python",
   "name": "python",
   "nbconvert_exporter": "python",
   "pygments_lexer": "ipython3",
   "version": "3.13.5"
  }
 },
 "nbformat": 4,
 "nbformat_minor": 5
}
